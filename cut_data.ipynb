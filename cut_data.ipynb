{
 "cells": [
  {
   "cell_type": "code",
   "execution_count": 2,
   "metadata": {},
   "outputs": [],
   "source": [
    "import os\n",
    "import pandas as pd"
   ]
  },
  {
   "cell_type": "code",
   "execution_count": 15,
   "metadata": {},
   "outputs": [],
   "source": [
    "# paths\n",
    "in_data_path=\"./Manh\"\n",
    "out_data_path=\"./out/manh\"\n",
    "# file name start with\n",
    "prefix_file_nt=\"nt_\"\n",
    "# files name apena and not apena\n",
    "nt_files_name=[]\n",
    "bt_files_name=[]\n",
    "# data\n",
    "nt_data= pd.DataFrame()\n",
    "bt_data= pd.DataFrame()\n",
    "# data len\n",
    "data_points = 200"
   ]
  },
  {
   "cell_type": "code",
   "execution_count": 19,
   "metadata": {},
   "outputs": [
    {
     "name": "stdout",
     "output_type": "stream",
     "text": [
      "['bt_1.csv', 'bt_2.csv', 'bt_3.csv', 'bt_4.csv', 'nt_1.csv', 'nt_2.csv', 'nt_3.csv', 'nt_4.csv', 'nt_5.csv', 'nt_6.csv', 'nt_7.csv', 'nt_8.csv']\n"
     ]
    }
   ],
   "source": [
    "print(os.listdir(in_data_path))"
   ]
  },
  {
   "cell_type": "code",
   "execution_count": 20,
   "metadata": {},
   "outputs": [],
   "source": [
    "bt_files_name=[f for f in os.listdir(in_data_path) if not f.startswith(prefix_file_nt)]\n",
    "nt_files_name=[f for f in os.listdir(in_data_path) if f.startswith(prefix_file_nt)]"
   ]
  },
  {
   "cell_type": "code",
   "execution_count": 50,
   "metadata": {},
   "outputs": [],
   "source": [
    "# Hàm đọc tất cả các file có tên trong mảng tại path data path\n",
    "def readAllCsvFilesToOneDf(files_name, in_path):\n",
    "    df= pd.DataFrame()\n",
    "    for f in files_name:\n",
    "        file_path = f\"{in_path}/{f}\"\n",
    "        _df = pd.read_csv(file_path)\n",
    "        df = pd.concat([df, _df], ignore_index=True)\n",
    "\n",
    "    return df\n",
    "\n",
    "# Hàm tách một df thành nhiều df có cùng độ dài và lưu thành nhiều file đánh thứ tự vào một path\n",
    "def cutDfAndSaveToCsvFile(df, len, out_path, file_start_prefix):\n",
    "    index = 0\n",
    "    while df.shape[0] > 0:\n",
    "        sample = df[:len]\n",
    "        df = df[len:]\n",
    "\n",
    "        if sample.shape[0] < len:\n",
    "            continue\n",
    "\n",
    "        file_path = f'{out_path}/{file_start_prefix}{index}.csv'\n",
    "        sample.to_csv(file_path, index=False)\n",
    "\n",
    "        index = index + 1"
   ]
  },
  {
   "cell_type": "code",
   "execution_count": null,
   "metadata": {},
   "outputs": [],
   "source": []
  },
  {
   "cell_type": "code",
   "execution_count": 51,
   "metadata": {},
   "outputs": [
    {
     "name": "stdout",
     "output_type": "stream",
     "text": [
      "(25285, 6)\n"
     ]
    }
   ],
   "source": [
    "# đọc dữ liệu thở bình thường vào một data frame\n",
    "bt_data= readAllCsvFilesToOneDf(bt_files_name, in_data_path)\n",
    "print(bt_data.shape)  "
   ]
  },
  {
   "cell_type": "code",
   "execution_count": 52,
   "metadata": {},
   "outputs": [],
   "source": [
    "# lưu dữ liệu thở bình thường vào file\n",
    "cutDfAndSaveToCsvFile(bt_data, data_points, out_data_path, \"bt_\")"
   ]
  },
  {
   "cell_type": "code",
   "execution_count": 43,
   "metadata": {},
   "outputs": [
    {
     "name": "stdout",
     "output_type": "stream",
     "text": [
      "(6029, 6)\n"
     ]
    }
   ],
   "source": [
    "# đọc dữ liệu ngưng thở vào một data frame\n",
    "nt_data= readAllCsvFilesToOneDf(nt_files_name, in_data_path)\n",
    "print(nt_data.shape)  "
   ]
  },
  {
   "cell_type": "code",
   "execution_count": 49,
   "metadata": {},
   "outputs": [
    {
     "name": "stdout",
     "output_type": "stream",
     "text": [
      "(200, 6)\n",
      "(200, 6)\n",
      "(200, 6)\n",
      "(200, 6)\n",
      "(200, 6)\n",
      "(200, 6)\n",
      "(200, 6)\n",
      "(200, 6)\n",
      "(200, 6)\n",
      "(200, 6)\n",
      "(200, 6)\n",
      "(200, 6)\n",
      "(200, 6)\n",
      "(200, 6)\n",
      "(200, 6)\n",
      "(200, 6)\n",
      "(200, 6)\n",
      "(200, 6)\n",
      "(200, 6)\n",
      "(200, 6)\n",
      "(200, 6)\n",
      "(200, 6)\n",
      "(200, 6)\n",
      "(200, 6)\n",
      "(200, 6)\n",
      "(200, 6)\n",
      "(200, 6)\n",
      "(200, 6)\n",
      "(200, 6)\n",
      "(200, 6)\n",
      "(29, 6)\n"
     ]
    }
   ],
   "source": [
    "# lưu dữ liệu ngưng thở vào file\n",
    "cutDfAndSaveToCsvFile(nt_data, data_points, out_data_path, \"nt_\")"
   ]
  }
 ],
 "metadata": {
  "kernelspec": {
   "display_name": "Python 3",
   "language": "python",
   "name": "python3"
  },
  "language_info": {
   "codemirror_mode": {
    "name": "ipython",
    "version": 3
   },
   "file_extension": ".py",
   "mimetype": "text/x-python",
   "name": "python",
   "nbconvert_exporter": "python",
   "pygments_lexer": "ipython3",
   "version": "3.10.0"
  }
 },
 "nbformat": 4,
 "nbformat_minor": 2
}
