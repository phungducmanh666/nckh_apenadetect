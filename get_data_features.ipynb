{
 "cells": [
  {
   "cell_type": "code",
   "execution_count": 5,
   "metadata": {},
   "outputs": [],
   "source": [
    "import pandas as pd\n",
    "import os"
   ]
  },
  {
   "cell_type": "code",
   "execution_count": 52,
   "metadata": {},
   "outputs": [],
   "source": [
    "# in data path\n",
    "in_data_path=\"./out/manh\"\n",
    "out_data_path=\"./out/features\"\n",
    "# files name in path\n",
    "nt_files_name=[]\n",
    "bt_files_name=[]\n",
    "# file name apena start with\n",
    "file_name_prefix=\"nt_\"\n",
    "# data sample list\n",
    "bt_df_list=[]\n",
    "nt_df_list=[]\n",
    "# data list features\n",
    "bt_list_df_features=[]\n",
    "nt_list_df_features=[]"
   ]
  },
  {
   "cell_type": "code",
   "execution_count": 54,
   "metadata": {},
   "outputs": [],
   "source": [
    "def getDataSampleFeatures(sample_df):\n",
    "\n",
    "    result_df = pd.DataFrame(columns=['min', 'max', 'mean', 'std'])\n",
    "\n",
    "    ax = sample_df['ax']\n",
    "    ay = sample_df['ay']\n",
    "    az = sample_df['az']\n",
    "    gx = sample_df['gx']\n",
    "    gy = sample_df['gy']\n",
    "    gz = sample_df['gz']\n",
    "\n",
    "    tmp_list = [ax, ay, az, gx, gy, gz]\n",
    "\n",
    "    for i in range(len(tmp_list)):\n",
    "        col = tmp_list[i]\n",
    "        result_df.loc[i] = [col.min(), col.max(), col.mean(), col.std()]\n",
    "\n",
    "    return result_df\n",
    "\n",
    "\n"
   ]
  },
  {
   "cell_type": "code",
   "execution_count": 55,
   "metadata": {},
   "outputs": [],
   "source": [
    "def listAllDfFromPath(in_path, start_prefix):\n",
    "    df_list = []\n",
    "    for file_name in os.listdir(in_path):\n",
    "        if not file_name.startswith(start_prefix):\n",
    "            continue\n",
    "\n",
    "        df = pd.read_csv(f\"{in_path}/{file_name}\")\n",
    "        df_list.append(df)\n",
    "\n",
    "    return df_list"
   ]
  },
  {
   "cell_type": "code",
   "execution_count": 56,
   "metadata": {},
   "outputs": [
    {
     "name": "stdout",
     "output_type": "stream",
     "text": [
      "số mẫu bình thường:  126\n",
      "số mẫu ngưng thở:  30\n"
     ]
    }
   ],
   "source": [
    "bt_files_name=[f for f in os.listdir(in_data_path) if not f.startswith(file_name_prefix)]\n",
    "nt_files_name=[f for f in os.listdir(in_data_path) if f.startswith(file_name_prefix)]\n",
    "\n",
    "print(\"số mẫu bình thường: \", len(bt_files_name))\n",
    "print(\"số mẫu ngưng thở: \", len(nt_files_name))"
   ]
  },
  {
   "cell_type": "code",
   "execution_count": 57,
   "metadata": {},
   "outputs": [],
   "source": [
    "bt_df_list = listAllDfFromPath(in_data_path, \"bt_\")\n",
    "nt_df_list = listAllDfFromPath(in_data_path, \"nt_\")"
   ]
  },
  {
   "cell_type": "code",
   "execution_count": 58,
   "metadata": {},
   "outputs": [
    {
     "name": "stdout",
     "output_type": "stream",
     "text": [
      "bt feature files: 126\n"
     ]
    }
   ],
   "source": [
    "# get bt list data features\n",
    "bt_list_df_features=[]\n",
    "for i in range(len(bt_df_list)):\n",
    "    bt_list_df_features.append(getDataSampleFeatures(bt_df_list[i]))\n",
    "\n",
    "print(f'bt feature files: {len(bt_list_df_features)}')"
   ]
  },
  {
   "cell_type": "code",
   "execution_count": 59,
   "metadata": {},
   "outputs": [
    {
     "name": "stdout",
     "output_type": "stream",
     "text": [
      "nt feature files: 30\n"
     ]
    }
   ],
   "source": [
    "# get bt list data features\n",
    "nt_list_df_features=[]\n",
    "for i in range(len(nt_df_list)):\n",
    "    nt_list_df_features.append(getDataSampleFeatures(nt_df_list[i]))\n",
    "\n",
    "print(f'nt feature files: {len(nt_list_df_features)}')"
   ]
  },
  {
   "cell_type": "code",
   "execution_count": 62,
   "metadata": {},
   "outputs": [],
   "source": [
    "# save features files method\n",
    "def saveFeaturesFiles(features_list_df, out_path, file_start_prefix):\n",
    "    for i in range(len(features_list_df)):\n",
    "        df = features_list_df[i]\n",
    "        file_path = f\"{out_path}/{file_start_prefix}{i}.csv\"\n",
    "        df.to_csv(file_path, index=False)"
   ]
  },
  {
   "cell_type": "code",
   "execution_count": 65,
   "metadata": {},
   "outputs": [],
   "source": [
    "# save features cua data tho binh thuong\n",
    "saveFeaturesFiles(bt_list_df_features, out_data_path, \"bt_\")"
   ]
  },
  {
   "cell_type": "code",
   "execution_count": 66,
   "metadata": {},
   "outputs": [],
   "source": [
    "# save features cua data ngung tho\n",
    "saveFeaturesFiles(nt_list_df_features, out_data_path, \"nt_\")"
   ]
  }
 ],
 "metadata": {
  "kernelspec": {
   "display_name": "Python 3",
   "language": "python",
   "name": "python3"
  },
  "language_info": {
   "codemirror_mode": {
    "name": "ipython",
    "version": 3
   },
   "file_extension": ".py",
   "mimetype": "text/x-python",
   "name": "python",
   "nbconvert_exporter": "python",
   "pygments_lexer": "ipython3",
   "version": "3.10.0"
  }
 },
 "nbformat": 4,
 "nbformat_minor": 2
}
